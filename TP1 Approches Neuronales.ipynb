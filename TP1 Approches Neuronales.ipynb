{
 "cells": [
  {
   "cell_type": "code",
   "execution_count": 1,
   "id": "e65fdd4c",
   "metadata": {},
   "outputs": [],
   "source": [
    "import numpy as np"
   ]
  },
  {
   "cell_type": "markdown",
   "id": "7e91fe07",
   "metadata": {},
   "source": [
    "# Question 0) Implementation des perceptrons batch and online(incrementale)"
   ]
  },
  {
   "cell_type": "code",
   "execution_count": 2,
   "id": "1d83e9ba",
   "metadata": {},
   "outputs": [],
   "source": [
    "def perceptron_version_batch(P, N, X, TAU, alpha):\n",
    "    #initialisation des Poids\n",
    "    Weight = np.random.uniform(-1,1,(N+1,1))\n",
    "    #print('le poid d initialisrion est :','\\n', Weight)\n",
    "    DeltaWeight = np.zeros((N+1,1))\n",
    "    X = np.append(np.ones((P,1)),X,axis=1)  \n",
    "    IT=0\n",
    "    while True:  \n",
    "        IT+=1\n",
    "        Y = np.sign(np.dot(X,Weight))\n",
    "        if np.array_equal(Y,TAU) is True:\n",
    "            break\n",
    "            #ajustements des poids\n",
    "        else:\n",
    "            DeltaWeight = alpha*(np.dot(X.T,(TAU - Y)))\n",
    "            Weight = Weight + DeltaWeight\n",
    "            #print('Le nouveau poid w est :','\\n', Weight)\n",
    "        \n",
    "    return Weight,IT"
   ]
  },
  {
   "cell_type": "code",
   "execution_count": 3,
   "id": "b00bcbbb",
   "metadata": {},
   "outputs": [],
   "source": [
    "def perceptron_version_online(P, N, X, tau, alpha):\n",
    "    # Initialisation des poids \n",
    "    Weight = np.random.uniform(-1,1,(N+1,1))\n",
    "    #print('le poid d initialisrion est :','\\n', Weight)\n",
    "    DeltaWeight = np.zeros((N+1,1))\n",
    "    ones = np.ones((P,1))\n",
    "    X = np.append(ones,X,axis=1)\n",
    "    stop = False\n",
    "    IT = 0\n",
    "    while not stop:\n",
    "        for k in range(P):\n",
    "            IT += 1\n",
    "            y = np.sign(np.dot(X[k],Weight))\n",
    "            if y != tau[k]:\n",
    "                #ajustements des poids\n",
    "                DeltaWeight = alpha*(tau[k] - y)*X[k].reshape((N+1,1))\n",
    "                Weight = Weight + DeltaWeight\n",
    "                #print('Le nouveau poid w est :','\\n', Weight)\n",
    "            # verifiation si les données ont été bien classifié\n",
    "            if np.array_equal(np.sign(X@Weight),tau):\n",
    "                stop = True\n",
    "                break\n",
    "            \n",
    "            \n",
    "    return Weight, IT"
   ]
  },
  {
   "cell_type": "markdown",
   "id": "5ca38ead",
   "metadata": {},
   "source": [
    "# Ensemble d'apprentissage : fonction 'OU', 'ET' et exemple du cours"
   ]
  },
  {
   "cell_type": "code",
   "execution_count": 4,
   "id": "50e599b1",
   "metadata": {},
   "outputs": [],
   "source": [
    "P = 4 # nombre de points\n",
    "N = 2 # entree binaire\n",
    "alpha = 1\n",
    "\n",
    "# données d'entrainement\n",
    "X = np.array([[-1,-1],[-1,1],[1,-1],[1,1]])\n",
    "TAU_ET = np.array([[-1],[-1],[-1],[1]])\n",
    "TAU_OU = np.array([[-1],[1],[1],[1]])\n",
    "#exemple fait en cours : Fichier Perceptron Page 42\n",
    "P_Ex = 6\n",
    "X_Ex = np.array([[5,-1],[2,6],[3, 3],[2, 1],[-1,1],[1,-2]])\n",
    "TAU_Ex = np.array([[1],[1],[1],[-1],[-1],[-1]])"
   ]
  },
  {
   "cell_type": "markdown",
   "id": "1e9e6fcf",
   "metadata": {},
   "source": [
    "# Apprentissage version batch"
   ]
  },
  {
   "cell_type": "code",
   "execution_count": 5,
   "id": "ee318ed9",
   "metadata": {
    "scrolled": false
   },
   "outputs": [
    {
     "name": "stdout",
     "output_type": "stream",
     "text": [
      "Le poid de convergence Weight_ET est alors : \n",
      " [[-0.4104516 ]\n",
      " [ 0.80277714]\n",
      " [ 0.94537963]] \n",
      " IT_ET : 1 \n",
      "\n",
      "Le poid de convergence Weight_OU est alors : \n",
      " [[3.06724055]\n",
      " [3.04433407]\n",
      " [0.59078215]] \n",
      " IT_OU : 2 \n",
      "\n",
      "Le poid de convergence Weight_Exemple est alors : \n",
      " [[-11.03346333]\n",
      " [  3.34596287]\n",
      " [  0.80448745]] \n",
      " IT_Ex : 9 \n",
      "\n"
     ]
    }
   ],
   "source": [
    "Weight_ET, IT_ET = perceptron_version_batch(P, N, X, TAU_ET, alpha)\n",
    "print('Le poid de convergence Weight_ET est alors :','\\n', Weight_ET, '\\n','IT_ET :',IT_ET,'\\n')\n",
    "Weight_OU, IT_OU = perceptron_version_batch(P, N, X, TAU_OU, alpha)\n",
    "print('Le poid de convergence Weight_OU est alors :','\\n', Weight_OU, '\\n','IT_OU :',IT_OU,'\\n')\n",
    "Weight_Ex, IT_Ex = perceptron_version_batch(P_Ex, N, X_Ex, TAU_Ex, alpha)\n",
    "print('Le poid de convergence Weight_Exemple est alors :','\\n', Weight_Ex, '\\n', 'IT_Ex :',IT_Ex,'\\n')"
   ]
  },
  {
   "cell_type": "markdown",
   "id": "a3184426",
   "metadata": {},
   "source": [
    "# Utilisation de matplotlib pour afficher notre resultats "
   ]
  },
  {
   "cell_type": "code",
   "execution_count": 6,
   "id": "550cdaca",
   "metadata": {},
   "outputs": [],
   "source": [
    "import matplotlib.pyplot as plt"
   ]
  },
  {
   "cell_type": "code",
   "execution_count": 7,
   "id": "0205c69e",
   "metadata": {},
   "outputs": [],
   "source": [
    "def plot_decision(X, TAU, Weight, title):\n",
    "    unique = np.unique(TAU)\n",
    "    for k in unique:\n",
    "        X_new = X[TAU.squeeze()==k]\n",
    "        plt.scatter(X_new[:,0],X_new[:,1])\n",
    "    #la resolution de l'equation mX+c = wX nous permet de trouver m et c\n",
    "    x1 =[min(X[:,0]),max(X[:,0])] \n",
    "    m = -(Weight[0]/Weight[2])/(Weight[0]/Weight[1]) \n",
    "    c = -Weight[0]/Weight[2]\n",
    "    x2= x1*m+c\n",
    "    plt.plot(x1,x2,'y-')\n",
    "    plt.title(title)\n",
    "    plt.show()"
   ]
  },
  {
   "cell_type": "code",
   "execution_count": 8,
   "id": "6a12f395",
   "metadata": {},
   "outputs": [
    {
     "data": {
      "image/png": "[encoded data removed]",
      "text/plain": [
       "<Figure size 432x288 with 1 Axes>"
      ]
     },
     "metadata": {
      "needs_background": "light"
     },
     "output_type": "display_data"
    },
    {
     "name": "stdout",
     "output_type": "stream",
     "text": [
      "None\n"
     ]
    },
    {
     "data": {
      "image/png": "[encoded data removed]",
      "text/plain": [
       "<Figure size 432x288 with 1 Axes>"
      ]
     },
     "metadata": {
      "needs_background": "light"
     },
     "output_type": "display_data"
    },
    {
     "name": "stdout",
     "output_type": "stream",
     "text": [
      "None\n"
     ]
    },
    {
     "data": {
      "image/png": "[encoded data removed]",
      "text/plain": [
       "<Figure size 432x288 with 1 Axes>"
      ]
     },
     "metadata": {
      "needs_background": "light"
     },
     "output_type": "display_data"
    },
    {
     "name": "stdout",
     "output_type": "stream",
     "text": [
      "None\n"
     ]
    }
   ],
   "source": [
    "print(plot_decision(X,TAU_ET,Weight_ET,'Plot_ET'))\n",
    "print(plot_decision(X,TAU_OU,Weight_OU,'Plot_OU'))\n",
    "print(plot_decision(X_Ex,TAU_Ex,Weight_Ex,'Exemple Fait en cours'))\n"
   ]
  },
  {
   "cell_type": "markdown",
   "id": "c6021e18",
   "metadata": {},
   "source": [
    "# Apprentissage version Online"
   ]
  },
  {
   "cell_type": "code",
   "execution_count": 9,
   "id": "dbc28827",
   "metadata": {
    "scrolled": true
   },
   "outputs": [
    {
     "name": "stdout",
     "output_type": "stream",
     "text": [
      "Le poid de convergence Weight_ET est alors : : \n",
      " [[-2.0352838 ]\n",
      " [ 1.62519236]\n",
      " [ 2.83239728]] \n",
      " IT_ET : 4 \n",
      "\n",
      "Le poid de convergence Weight_OU est alors : : \n",
      " [[0.85584064]\n",
      " [3.53779336]\n",
      " [3.05376378]] \n",
      " IT_OU : 5 \n",
      "\n",
      "Le poid de convergence Weight_Exemple est alors : : \n",
      " [[-17.23547877]\n",
      " [  7.27049473]\n",
      " [  1.22735737]] \n",
      " IT_Exemple : 76 \n",
      "\n"
     ]
    }
   ],
   "source": [
    "Weight_ET, IT_ET = perceptron_version_online(P, N, X, TAU_ET, alpha)\n",
    "print('Le poid de convergence Weight_ET est alors : :','\\n', Weight_ET, '\\n','IT_ET :',IT_ET,'\\n')\n",
    "Weight_OU, IT_OU = perceptron_version_online(P, N, X, TAU_OU, alpha)\n",
    "print('Le poid de convergence Weight_OU est alors : :','\\n', Weight_OU, '\\n','IT_OU :',IT_OU,'\\n')\n",
    "Weight_Ex, IT_Ex = perceptron_version_online(P_Ex, N, X_Ex, TAU_Ex, alpha)\n",
    "print('Le poid de convergence Weight_Exemple est alors : :','\\n', Weight_Ex, '\\n', 'IT_Exemple :',IT_Ex,'\\n')"
   ]
  },
  {
   "cell_type": "code",
   "execution_count": 10,
   "id": "069c9d39",
   "metadata": {},
   "outputs": [
    {
     "data": {
      "image/png": "[encoded data removed]",
      "text/plain": [
       "<Figure size 432x288 with 1 Axes>"
      ]
     },
     "metadata": {
      "needs_background": "light"
     },
     "output_type": "display_data"
    },
    {
     "name": "stdout",
     "output_type": "stream",
     "text": [
      "None\n"
     ]
    },
    {
     "data": {
      "image/png": "[encoded data removed]",
      "text/plain": [
       "<Figure size 432x288 with 1 Axes>"
      ]
     },
     "metadata": {
      "needs_background": "light"
     },
     "output_type": "display_data"
    },
    {
     "name": "stdout",
     "output_type": "stream",
     "text": [
      "None\n"
     ]
    },
    {
     "data": {
      "image/png": "[encoded data removed]",
      "text/plain": [
       "<Figure size 432x288 with 1 Axes>"
      ]
     },
     "metadata": {
      "needs_background": "light"
     },
     "output_type": "display_data"
    },
    {
     "name": "stdout",
     "output_type": "stream",
     "text": [
      "None\n"
     ]
    }
   ],
   "source": [
    "print(plot_decision(X,TAU_ET,Weight_ET,'Plot_ET'))\n",
    "print(plot_decision(X,TAU_OU,Weight_OU,'Plot_OU'))\n",
    "print(plot_decision(X_Ex,TAU_Ex,Weight_Ex,'Exemple Fait en cours'))"
   ]
  },
  {
   "cell_type": "markdown",
   "id": "b73ab5e4",
   "metadata": {},
   "source": [
    "# Question 1) Données LS Aleatoire : Perceptron Professeur W*"
   ]
  },
  {
   "cell_type": "code",
   "execution_count": 11,
   "id": "1fd98f8e",
   "metadata": {},
   "outputs": [
    {
     "data": {
      "image/png": "[encoded data removed]",
      "text/plain": [
       "<Figure size 432x288 with 1 Axes>"
      ]
     },
     "metadata": {
      "needs_background": "light"
     },
     "output_type": "display_data"
    }
   ],
   "source": [
    "P=100\n",
    "N=2\n",
    "while True:\n",
    "    X=np.random.uniform(-1,1,(P,N))\n",
    "    Weight = np.random.uniform(-1,1,(N+1,1))\n",
    "    ones = np.ones((P,1))\n",
    "    X = np.append(ones,X,axis=1)\n",
    "    tau = np.sign(X@Weight)\n",
    "    if len(np.unique(tau)==1) :\n",
    "        break\n",
    "    \n",
    "plot_decision(X[:,1:],tau,Weight,'Perceptron Professeur')"
   ]
  },
  {
   "cell_type": "markdown",
   "id": "8439a3b8",
   "metadata": {},
   "source": [
    "# Question 2) Apprentissage "
   ]
  },
  {
   "cell_type": "code",
   "execution_count": 12,
   "id": "4dfa72b6",
   "metadata": {},
   "outputs": [],
   "source": [
    "W_version_batch_eleve,IT_version_batch = perceptron_version_batch(P, N, X[:,1:], tau, alpha)\n"
   ]
  },
  {
   "cell_type": "code",
   "execution_count": 13,
   "id": "78e907ba",
   "metadata": {},
   "outputs": [],
   "source": [
    "W_version_online_eleve,IT_version_online = perceptron_version_online(P, N, X[:,1:], tau, alpha)"
   ]
  },
  {
   "cell_type": "markdown",
   "id": "67faaba4",
   "metadata": {},
   "source": [
    "# 2-a) Poids W du perceptron élève"
   ]
  },
  {
   "cell_type": "code",
   "execution_count": 14,
   "id": "1e045350",
   "metadata": {},
   "outputs": [
    {
     "name": "stdout",
     "output_type": "stream",
     "text": [
      "Le poids W de convergence version batch est :  \n",
      " [[-45.93736765]\n",
      " [ 70.29965506]\n",
      " [ 42.8178451 ]]\n",
      "Le poids W de convergence version online est :  \n",
      " [[-10.87164412]\n",
      " [ 16.78814855]\n",
      " [ 10.22737464]]\n"
     ]
    }
   ],
   "source": [
    "print(\"Le poids W de convergence version batch est : \", \"\\n\", W_version_batch_eleve )\n",
    "print(\"Le poids W de convergence version online est : \",\"\\n\", W_version_online_eleve )"
   ]
  },
  {
   "cell_type": "markdown",
   "id": "3614220e",
   "metadata": {},
   "source": [
    "# 2-b) Le nombre d'itérations IT nécessaires pour converger"
   ]
  },
  {
   "cell_type": "code",
   "execution_count": 15,
   "id": "62244f62",
   "metadata": {},
   "outputs": [
    {
     "name": "stdout",
     "output_type": "stream",
     "text": [
      "Le nombre d'itérations IT nécessaires pour converger, version batch est :  76\n",
      "Le nombre d'itérations IT nécessaires pour converger, version online est :  3296\n"
     ]
    }
   ],
   "source": [
    "print(\"Le nombre d'itérations IT nécessaires pour converger, version batch est : \",IT_version_batch )\n",
    "print(\"Le nombre d'itérations IT nécessaires pour converger, version online est : \",IT_version_online )"
   ]
  },
  {
   "cell_type": "markdown",
   "id": "8482401e",
   "metadata": {},
   "source": [
    "# 2-c) Le recouvrement R entre le perceptron professeur W* et l’élève W"
   ]
  },
  {
   "cell_type": "code",
   "execution_count": 16,
   "id": "273edeab",
   "metadata": {},
   "outputs": [],
   "source": [
    "def recouvrement(w_etoile,w):\n",
    "    norm_w_etoile=np.linalg.norm(w_etoile)\n",
    "    norm_w= np.linalg.norm(w)\n",
    "    return np.cos((w_etoile.T@w)/(norm_w_etoile*norm_w))"
   ]
  },
  {
   "cell_type": "code",
   "execution_count": 17,
   "id": "bb358c75",
   "metadata": {
    "scrolled": true
   },
   "outputs": [
    {
     "name": "stdout",
     "output_type": "stream",
     "text": [
      "le recouvrement entre professeur et éléve version batch :  0.5403047481540322\n",
      "le recouvrement entre professeur et éléve version online :  0.5403086370516834\n"
     ]
    }
   ],
   "source": [
    "recov_batch = recouvrement(Weight,W_version_batch_eleve)\n",
    "recov_batch = (np.squeeze(recov_batch)).squeeze() \n",
    "recov_online = recouvrement(Weight,W_version_online_eleve)\n",
    "recov_online = (np.squeeze(recov_online)).squeeze()\n",
    "print(\"le recouvrement entre professeur et éléve version batch : \", recov_batch )\n",
    "print(\"le recouvrement entre professeur et éléve version online : \" ,recov_online)"
   ]
  },
  {
   "cell_type": "markdown",
   "id": "2b29e1cb",
   "metadata": {},
   "source": [
    "# 3) TESTS : Lancer le Programme avec differents  valeur sous forme de tableau"
   ]
  },
  {
   "cell_type": "code",
   "execution_count": 18,
   "id": "ba17a146",
   "metadata": {},
   "outputs": [],
   "source": [
    "def batch_test(P, N, Nbr_tirage):\n",
    "    Nbr_IT = 0\n",
    "    Nbr_Recov = 0\n",
    "    for i in range(Nbr_tirage):\n",
    "        X=np.random.uniform(-1,1,(P,N))\n",
    "        Weight = np.random.uniform(-1,1,(N+1,1))\n",
    "        ones = np.ones((P,1))\n",
    "        X = np.append(ones,X,axis=1)\n",
    "        tau = np.sign(X@Weight)\n",
    "        W_batch, IT_batch = perceptron_version_batch(P, N, X[:,1:], tau, alpha) # on fait appel à fonction percetron batch\n",
    "        Nbr_IT += IT_batch \n",
    "        Nbr_Recov += recouvrement(Weight, W_batch)\n",
    "        \n",
    "    Moy_IT = Nbr_IT/Nbr_tirage\n",
    "    Moy_recov = Nbr_Recov/Nbr_tirage\n",
    "    Moy_recov = (np.squeeze(Moy_recov)).squeeze()[()]\n",
    "    return Moy_IT, Moy_recov"
   ]
  },
  {
   "cell_type": "code",
   "execution_count": 19,
   "id": "5d3e90c0",
   "metadata": {},
   "outputs": [],
   "source": [
    "def online_test(P, N, Nbr_tirage):\n",
    "    Nbr_IT = 0\n",
    "    Nbr_Recov = 0\n",
    "    for i in range(Nbr_tirage):\n",
    "        X=np.random.uniform(-1,1,(P,N))\n",
    "        Weight = np.random.uniform(-1,1,(N+1,1))\n",
    "        ones = np.ones((P,1))\n",
    "        X = np.append(ones,X,axis=1)\n",
    "        tau = np.sign(X@Weight)\n",
    "        W_batch, IT_batch = perceptron_version_online(P, N, X[:,1:], tau, alpha) # on fait appel à fonction percetron online\n",
    "        Nbr_IT += IT_batch \n",
    "        Nbr_Recov += recouvrement(Weight, W_batch)\n",
    "        \n",
    "    Moy_IT = Nbr_IT/Nbr_tirage\n",
    "    Moy_recov = Nbr_Recov/Nbr_tirage\n",
    "    Moy_recov = (np.squeeze(Moy_recov)).squeeze()[()]\n",
    "    return Moy_IT, Moy_recov"
   ]
  },
  {
   "cell_type": "code",
   "execution_count": 20,
   "id": "d4b3be49",
   "metadata": {},
   "outputs": [],
   "source": [
    "import time"
   ]
  },
  {
   "cell_type": "code",
   "execution_count": 21,
   "id": "a048abb0",
   "metadata": {},
   "outputs": [
    {
     "name": "stdout",
     "output_type": "stream",
     "text": [
      "                   <IT>        <R>\n",
      "P =  10 N =  2 :  4.84  ;  0.6652709921935578\n",
      "P =  10 N =  10 :  4.06  ;  0.8099283035724218\n",
      "P =  10 N =  100 :  3.32  ;  0.9741312713939765\n",
      "P =  10 N =  500 :  3.36  ;  0.9952906366415096\n",
      "P =  10 N =  1000 :  3.32  ;  0.9972606025298931\n",
      "P =  10 N =  5000 :  3.36  ;  0.9993911029125971\n",
      "P =  100 N =  2 :  44.46  ;  0.5722216422348013\n",
      "P =  100 N =  10 :  12.88  ;  0.5570917245786662\n",
      "P =  100 N =  100 :  6.96  ;  0.7922052750764346\n",
      "P =  100 N =  500 :  4.92  ;  0.9506968842822271\n",
      "P =  100 N =  1000 :  4.54  ;  0.9744805761800562\n",
      "P =  100 N =  5000 :  4.86  ;  0.9947910492908913\n",
      "P =  500 N =  2 :  85.14  ;  0.5572211862452998\n",
      "P =  500 N =  10 :  25.0  ;  0.5410023538748294\n",
      "P =  500 N =  100 :  16.2  ;  0.5828968164913281\n",
      "P =  500 N =  500 :  10.08  ;  0.7975256970005485\n",
      "P =  500 N =  1000 :  8.14  ;  0.8849512726310788\n",
      "P =  500 N =  5000 :  6.0  ;  0.9741141263067605\n",
      "P =  1000 N =  2 :  415.82  ;  0.5684150183728316\n",
      "P =  1000 N =  10 :  50.52  ;  0.5405530084939459\n",
      "P =  1000 N =  100 :  19.68  ;  0.5518378900298687\n",
      "P =  1000 N =  500 :  15.9  ;  0.6863679226038496\n",
      "P =  1000 N =  1000 :  12.88  ;  0.7980228550503357\n",
      "P =  1000 N =  5000 :  7.0  ;  0.9491690265114313\n",
      "\n",
      " Temps d'exécution version batch est : 22.44495964050293 secondes\n"
     ]
    }
   ],
   "source": [
    "N = [2,10,100,500,1000,5000] \n",
    "P = [10,100,500,1000]\n",
    "Nbr_tirage = 50\n",
    "print('                   <IT>        <R>')\n",
    "start_time = time.time()\n",
    "for i in P :\n",
    "    for j in N :\n",
    "        Moy_IT,Moy_recov = batch_test(i,j,Nbr_tirage)\n",
    "        print('P = ',i,'N = ', j,': ',Moy_IT, ' ; ', Moy_recov)\n",
    "end_time = time.time()\n",
    "print('\\n',f\"Temps d'exécution version batch est : {end_time - start_time} secondes\")"
   ]
  },
  {
   "cell_type": "code",
   "execution_count": 22,
   "id": "d89274fd",
   "metadata": {},
   "outputs": [
    {
     "name": "stdout",
     "output_type": "stream",
     "text": [
      "                   <IT>        <R>\n",
      "P =  10 N =  2 :  31.26  ;  0.6292216488671475\n",
      "P =  10 N =  10 :  17.02  ;  0.8290594315523215\n",
      "P =  10 N =  100 :  13.48  ;  0.9744220409353228\n",
      "P =  10 N =  500 :  13.04  ;  0.9958369013663096\n",
      "P =  10 N =  1000 :  13.54  ;  0.9980871119049054\n",
      "P =  10 N =  5000 :  14.34  ;  0.9995081226834104\n",
      "P =  100 N =  2 :  1783.58  ;  0.5677645650178773\n",
      "P =  100 N =  10 :  1968.12  ;  0.5559568194672143\n",
      "P =  100 N =  100 :  522.88  ;  0.8030318586930657\n",
      "P =  100 N =  500 :  300.72  ;  0.9566352115159007\n",
      "P =  100 N =  1000 :  313.16  ;  0.9770138943142506\n",
      "P =  100 N =  5000 :  305.18  ;  0.9954059130623684\n",
      "P =  500 N =  2 :  53050.3  ;  0.5510034824693615\n",
      "P =  500 N =  10 :  102646.74  ;  0.5410246300561138\n",
      "P =  500 N =  100 :  16324.94  ;  0.5758712619403907\n",
      "P =  500 N =  500 :  4353.14  ;  0.7982545350245018\n",
      "P =  500 N =  1000 :  3164.7  ;  0.8911298221059133\n",
      "P =  500 N =  5000 :  2306.3  ;  0.9771049331786809\n",
      "P =  1000 N =  2 :  64653.5  ;  0.574060355642549\n",
      "P =  1000 N =  10 :  523493.12  ;  0.5404788377245139\n",
      "P =  1000 N =  100 :  91804.02  ;  0.5510549223701444\n",
      "P =  1000 N =  500 :  18205.78  ;  0.6783842442317816\n",
      "P =  1000 N =  1000 :  12630.48  ;  0.7959947710936562\n",
      "P =  1000 N =  5000 :  6089.78  ;  0.954317949447104\n",
      "\n",
      " Temps d'exécution version online est : 3118.276528120041 secondes\n"
     ]
    }
   ],
   "source": [
    "N = [2,10,100,500,1000,5000] \n",
    "P = [10,100,500,1000]\n",
    "Nbr_tirage = 50\n",
    "print('                   <IT>        <R>')\n",
    "start_time = time.time()\n",
    "for i in P :\n",
    "    for j in N :\n",
    "        Moy_IT,Moy_recov = online_test(i,j,Nbr_tirage)\n",
    "        print('P = ',i,'N = ', j,': ',Moy_IT, ' ; ', Moy_recov)\n",
    "end_time = time.time()\n",
    "print('\\n',f\"Temps d'exécution version online est : {end_time - start_time} secondes\")"
   ]
  },
  {
   "cell_type": "code",
   "execution_count": null,
   "id": "1a37932c",
   "metadata": {},
   "outputs": [],
   "source": []
  }
 ],
 "metadata": {
  "kernelspec": {
   "display_name": "Python 3 (ipykernel)",
   "language": "python",
   "name": "python3"
  },
  "language_info": {
   "codemirror_mode": {
    "name": "ipython",
    "version": 3
   },
   "file_extension": ".py",
   "mimetype": "text/x-python",
   "name": "python",
   "nbconvert_exporter": "python",
   "pygments_lexer": "ipython3",
   "version": "3.9.12"
  }
 },
 "nbformat": 4,
 "nbformat_minor": 5
}
