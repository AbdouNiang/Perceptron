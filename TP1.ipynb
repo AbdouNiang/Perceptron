{
 "cells": [
  {
   "cell_type": "code",
   "execution_count": 1,
   "id": "e65fdd4c",
   "metadata": {},
   "outputs": [],
   "source": [
    "import numpy as np"
   ]
  },
  {
   "cell_type": "code",
   "execution_count": 32,
   "id": "1d83e9ba",
   "metadata": {},
   "outputs": [],
   "source": [
    "def perceptron_version_batch(P, N, X, TAU, alpha):\n",
    "    Weight = np.random.uniform(-1,1,(N+1,1))\n",
    "    print('le poid d initialisrion est :','\\n', Weight)\n",
    "    DeltaWeight = np.zeros((N+1,1))\n",
    "    X = np.append(np.ones((P,1)),X,axis=1)  \n",
    "    IT=0\n",
    "    while True:\n",
    "        \n",
    "        IT+=1\n",
    "        Y = np.sign(np.dot(X,Weight))\n",
    "        if np.array_equal(Y,TAU) is True:\n",
    "            break\n",
    "        else:\n",
    "            DeltaWeight = alpha*(np.dot(X.T,(TAU - Y)))\n",
    "            Weight = Weight + DeltaWeight\n",
    "        #print('le poid est' , Weight)\n",
    "        print('l iteration est :',IT)\n",
    "    return Weight,IT"
   ]
  },
  {
   "cell_type": "code",
   "execution_count": 33,
   "id": "b00bcbbb",
   "metadata": {},
   "outputs": [],
   "source": [
    "def perceptron_version_online(P, N, X, tau, alpha):\n",
    "    # Initialisation des poids W\n",
    "    W = np.random.uniform(-1,1,(N+1,1))\n",
    "    Dw = np.zeros((N+1,1))\n",
    "    ones = np.ones((P,1))\n",
    "    X_new = np.append(ones,X,axis=1)\n",
    "    stop = False\n",
    "    IT = 0\n",
    "    while not stop:\n",
    "        for k in range(P):\n",
    "            IT += 1\n",
    "            y = np.sign(np.dot(X_new[k],W))\n",
    "            if y != tau[k]:\n",
    "                # Mise à jour des poids\n",
    "                Dw = alpha*(tau[k] - y)*X_new[k].reshape((N+1,1))\n",
    "                W = W + Dw\n",
    "            # Vérifiation si tout les données ont été bien classifié\n",
    "            if np.array_equal(np.sign(X_new@W),tau):\n",
    "                stop = True\n",
    "                break\n",
    "            \n",
    "    return W, IT"
   ]
  },
  {
   "cell_type": "code",
   "execution_count": 34,
   "id": "d8a191a1",
   "metadata": {},
   "outputs": [],
   "source": [
    "P = 4 # nombre de points\n",
    "N = 2 # entree binaire\n",
    "alpha = 1\n",
    "\n",
    "# Initialisation des données d'entrainement\n",
    "X = np.array([[-1,-1],[-1,1],[1,-1],[1,1]])\n",
    "TAU_ET = np.array([[-1],[-1],[-1],[1]])\n",
    "TAU_OU = np.array([[-1],[1],[1],[1]])\n",
    "#expemple fait en coure : Fichier Perceptron Page 42\n",
    "P_Ex = 6\n",
    "X_Ex = np.array([[5,-1],[2,6],[3, 3],[2, 1],[-1,1],[1,-2]])\n",
    "TAU_Ex = np.array([[1],[1],[1],[-1],[-1],[-1]])"
   ]
  },
  {
   "cell_type": "code",
   "execution_count": 35,
   "id": "ee318ed9",
   "metadata": {
    "scrolled": true
   },
   "outputs": [
    {
     "name": "stdout",
     "output_type": "stream",
     "text": [
      "l iteration est : 1\n",
      "l iteration est : 2\n",
      "l iteration est : 1\n",
      "l iteration est : 2\n",
      "l iteration est : 1\n",
      "l iteration est : 2\n",
      "l iteration est : 3\n",
      "l iteration est : 4\n",
      "l iteration est : 5\n",
      "l iteration est : 6\n",
      "l iteration est : 7\n",
      "l iteration est : 8\n",
      "Weight_ET : [[-3.03480677]\n",
      " [ 4.55958675]\n",
      " [ 3.89620398]] \n",
      " IT_ET : 3 \n",
      "\n"
     ]
    }
   ],
   "source": [
    "Weight_ET, IT_ET = perceptron_version_batch(P, N, X, TAU_ET, alpha)\n",
    "Weight_OU, IT_OU = perceptron_version_batch(P, N, X, TAU_OU, alpha)\n",
    "Weight_Ex, IT_Ex = perceptron_version_batch(P_Ex, N, X_Ex, TAU_Ex, alpha)\n",
    "print('Weight_ET :', Weight_ET, '\\n','IT_ET :',IT_ET,'\\n')\n"
   ]
  },
  {
   "cell_type": "code",
   "execution_count": 6,
   "id": "550cdaca",
   "metadata": {},
   "outputs": [],
   "source": [
    "import matplotlib.pyplot as plt"
   ]
  },
  {
   "cell_type": "code",
   "execution_count": 7,
   "id": "0205c69e",
   "metadata": {},
   "outputs": [],
   "source": [
    "def plot_decision(X, TAU, Weight, title):\n",
    "    unique = np.unique(TAU)\n",
    "    for k in unique:\n",
    "        X_new = X[TAU.squeeze()==k]\n",
    "        plt.scatter(X_new[:,0],X_new[:,1])\n",
    "    #la resolution de l'equation mX+c = wX nous permet de trouver m et c\n",
    "    x1 =[min(X[:,0]),max(X[:,0])] \n",
    "    m = -(Weight[0]/Weight[2])/(Weight[0]/Weight[1]) \n",
    "    c = -Weight[0]/Weight[2]\n",
    "    x2= x1*m+c\n",
    "    plt.plot(x1,x2,'y-')\n",
    "    plt.title(title)\n",
    "    plt.show()"
   ]
  },
  {
   "cell_type": "code",
   "execution_count": 8,
   "id": "6a12f395",
   "metadata": {},
   "outputs": [
    {
     "data": {
      "image/png": "[encoded data removed]",
      "text/plain": [
       "<Figure size 432x288 with 1 Axes>"
      ]
     },
     "metadata": {
      "needs_background": "light"
     },
     "output_type": "display_data"
    },
    {
     "name": "stdout",
     "output_type": "stream",
     "text": [
      "None\n"
     ]
    },
    {
     "data": {
      "image/png": "[encoded data removed]",
      "text/plain": [
       "<Figure size 432x288 with 1 Axes>"
      ]
     },
     "metadata": {
      "needs_background": "light"
     },
     "output_type": "display_data"
    },
    {
     "name": "stdout",
     "output_type": "stream",
     "text": [
      "None\n"
     ]
    },
    {
     "data": {
      "image/png": "[encoded data removed]",
      "text/plain": [
       "<Figure size 432x288 with 1 Axes>"
      ]
     },
     "metadata": {
      "needs_background": "light"
     },
     "output_type": "display_data"
    },
    {
     "name": "stdout",
     "output_type": "stream",
     "text": [
      "None\n"
     ]
    }
   ],
   "source": [
    "print(plot_decision(X,TAU_ET,Weight_ET,'Plot_ET'))\n",
    "print(plot_decision(X,TAU_OU,Weight_OU,'Plot_OU'))\n",
    "print(plot_decision(X_Ex,TAU_Ex,Weight_Ex,'Exemple Fait en cours'))\n"
   ]
  },
  {
   "cell_type": "markdown",
   "id": "b73ab5e4",
   "metadata": {},
   "source": [
    "# Question 1) Données LS Aleatoire : Perceptron Professeur"
   ]
  },
  {
   "cell_type": "code",
   "execution_count": 9,
   "id": "1fd98f8e",
   "metadata": {},
   "outputs": [
    {
     "data": {
      "image/png": "[encoded data removed]",
      "text/plain": [
       "<Figure size 432x288 with 1 Axes>"
      ]
     },
     "metadata": {
      "needs_background": "light"
     },
     "output_type": "display_data"
    }
   ],
   "source": [
    "P=100\n",
    "N=2\n",
    "while True:\n",
    "    X=np.random.uniform(-1,1,(P,N))\n",
    "    Weight = np.random.uniform(-1,1,(N+1,1))\n",
    "    ones = np.ones((P,1))\n",
    "    X = np.append(ones,X,axis=1)\n",
    "    tau = np.sign(X@Weight)\n",
    "    if len(np.unique(tau)==1) :\n",
    "        break\n",
    "    \n",
    "plot_decision(X[:,1:],tau,Weight,'Perceptron Professeur')"
   ]
  },
  {
   "cell_type": "markdown",
   "id": "8439a3b8",
   "metadata": {},
   "source": [
    "# Question 2) Apprentissage "
   ]
  },
  {
   "cell_type": "code",
   "execution_count": 11,
   "id": "4dfa72b6",
   "metadata": {},
   "outputs": [],
   "source": [
    "W_version_batch_eleve,IT_version_batch = perceptron_version_batch(P, N, X[:,1:], tau, alpha)\n",
    "W_version_online_eleve,IT_version_online = perceptron_version_online(P, N, X[:,1:], tau, alpha)"
   ]
  },
  {
   "cell_type": "markdown",
   "id": "67faaba4",
   "metadata": {},
   "source": [
    "# 2-a) Poids W du perceptron élève"
   ]
  },
  {
   "cell_type": "code",
   "execution_count": 12,
   "id": "1e045350",
   "metadata": {},
   "outputs": [
    {
     "name": "stdout",
     "output_type": "stream",
     "text": [
      "Le poids W de convergence version batch est :  \n",
      " [[ 25.61487998]\n",
      " [-38.25752281]\n",
      " [-97.83759332]]\n",
      "Le poids W de convergence version online est :  \n",
      " [[  6.76868381]\n",
      " [-10.98968401]\n",
      " [-26.23776689]]\n"
     ]
    }
   ],
   "source": [
    "print(\"Le poids W de convergence version batch est : \", \"\\n\", W_version_batch_eleve )\n",
    "print(\"Le poids W de convergence version online est : \",\"\\n\", W_version_online_eleve )"
   ]
  },
  {
   "cell_type": "markdown",
   "id": "3614220e",
   "metadata": {},
   "source": [
    "# 2-b) Le nombre d'itérations IT nécessaires pour converger"
   ]
  },
  {
   "cell_type": "code",
   "execution_count": 13,
   "id": "62244f62",
   "metadata": {},
   "outputs": [
    {
     "name": "stdout",
     "output_type": "stream",
     "text": [
      "Le nombre d'itérations IT nécessaires pour converger, version batch est :  21\n",
      "Le nombre d'itérations IT nécessaires pour converger, version online est :  15686\n"
     ]
    }
   ],
   "source": [
    "print(\"Le nombre d'itérations IT nécessaires pour converger, version batch est : \",IT_version_batch )\n",
    "print(\"Le nombre d'itérations IT nécessaires pour converger, version online est : \",IT_version_online )"
   ]
  },
  {
   "cell_type": "markdown",
   "id": "8482401e",
   "metadata": {},
   "source": [
    "# 2-c) Le recouvrement R entre le perceptron professeur W* et l’élève W"
   ]
  },
  {
   "cell_type": "code",
   "execution_count": 14,
   "id": "273edeab",
   "metadata": {},
   "outputs": [],
   "source": [
    "def recouvrement(w_etoile,w):\n",
    "    norm_w_etoile=np.linalg.norm(w_etoile)\n",
    "    norm_w= np.linalg.norm(w)\n",
    "    return np.cos((w_etoile.T@w)/(norm_w_etoile*norm_w))"
   ]
  },
  {
   "cell_type": "code",
   "execution_count": 15,
   "id": "bb358c75",
   "metadata": {
    "scrolled": true
   },
   "outputs": [
    {
     "name": "stdout",
     "output_type": "stream",
     "text": [
      "le recouvrement entre professeur et éléve version batch :  0.5406847083138677\n",
      "le recouvrement entre professeur et éléve version online :  0.5403257967591966\n"
     ]
    }
   ],
   "source": [
    "recov_batch = recouvrement(Weight,W_version_batch_eleve)\n",
    "recov_batch = (np.squeeze(recov_batch)).squeeze() \n",
    "recov_online = recouvrement(Weight,W_version_online_eleve)\n",
    "recov_online = (np.squeeze(recov_online)).squeeze()\n",
    "print(\"le recouvrement entre professeur et éléve version batch : \", recov_batch )\n",
    "print(\"le recouvrement entre professeur et éléve version online : \" ,recov_online)"
   ]
  },
  {
   "cell_type": "markdown",
   "id": "2b29e1cb",
   "metadata": {},
   "source": [
    "# 3) TESTS : Lancer le Programme avec differents  valeur sous forme de tableau"
   ]
  },
  {
   "cell_type": "code",
   "execution_count": 22,
   "id": "ba17a146",
   "metadata": {},
   "outputs": [],
   "source": [
    "def batch_test(P, N, Nbr_tirage):\n",
    "    Nbr_IT = 0\n",
    "    Nbr_Recov = 0\n",
    "    for i in range(Nbr_tirage):\n",
    "        X=np.random.uniform(-1,1,(P,N))\n",
    "        Weight = np.random.uniform(-1,1,(N+1,1))\n",
    "        ones = np.ones((P,1))\n",
    "        X = np.append(ones,X,axis=1)\n",
    "        tau = np.sign(X@Weight)\n",
    "        W_batch, IT_batch = perceptron_version_batch(P, N, X[:,1:], tau, alpha)\n",
    "        Nbr_IT += IT_batch \n",
    "        Nbr_Recov += recouvrement(Weight, W_batch)\n",
    "        \n",
    "    Moy_IT = Nbr_IT/Nbr_tirage\n",
    "    Moy_recov = Nbr_Recov/Nbr_tirage\n",
    "    Moy_recov = (np.squeeze(Moy_recov)).squeeze()[()]\n",
    "    return Moy_IT, Moy_recov"
   ]
  },
  {
   "cell_type": "code",
   "execution_count": 23,
   "id": "fff4319c",
   "metadata": {},
   "outputs": [
    {
     "data": {
      "text/plain": [
       "(5.26, 0.6415081160743774)"
      ]
     },
     "execution_count": 23,
     "metadata": {},
     "output_type": "execute_result"
    }
   ],
   "source": [
    "batch_test(10,2,50)"
   ]
  },
  {
   "cell_type": "code",
   "execution_count": 24,
   "id": "5d3e90c0",
   "metadata": {},
   "outputs": [],
   "source": [
    "def online_test(P, N, Nbr_tirage):\n",
    "    Nbr_IT = 0\n",
    "    Nbr_Recov = 0\n",
    "    for i in range(Nbr_tirage):\n",
    "        X=np.random.uniform(-1,1,(P,N))\n",
    "        Weight = np.random.uniform(-1,1,(N+1,1))\n",
    "        ones = np.ones((P,1))\n",
    "        X = np.append(ones,X,axis=1)\n",
    "        tau = np.sign(X@Weight)\n",
    "        W_batch, IT_batch = perceptron_version_online(P, N, X[:,1:], tau, alpha)\n",
    "        Nbr_IT += IT_batch \n",
    "        Nbr_Recov += recouvrement(Weight, W_batch)\n",
    "        \n",
    "    Moy_IT = Nbr_IT/Nbr_tirage\n",
    "    Moy_recov = Nbr_Recov/Nbr_tirage\n",
    "    Moy_recov = (np.squeeze(Moy_recov)).squeeze()[()]\n",
    "    return Moy_IT, Moy_recov"
   ]
  },
  {
   "cell_type": "code",
   "execution_count": 25,
   "id": "9b9384fa",
   "metadata": {},
   "outputs": [
    {
     "data": {
      "text/plain": [
       "(43.36, 0.6460273670830995)"
      ]
     },
     "execution_count": 25,
     "metadata": {},
     "output_type": "execute_result"
    }
   ],
   "source": [
    "online_test(10,2,50)"
   ]
  },
  {
   "cell_type": "code",
   "execution_count": 36,
   "id": "d4b3be49",
   "metadata": {},
   "outputs": [],
   "source": [
    "import time"
   ]
  },
  {
   "cell_type": "code",
   "execution_count": 37,
   "id": "a048abb0",
   "metadata": {},
   "outputs": [
    {
     "name": "stdout",
     "output_type": "stream",
     "text": [
      "                   <IT>        <R>\n",
      "P =  10 N =  2 :  6.16  ;  0.6313242642672345\n",
      "P =  10 N =  10 :  3.86  ;  0.8060064498742541\n",
      "P =  10 N =  100 :  3.22  ;  0.9727592063352776\n",
      "P =  10 N =  500 :  3.08  ;  0.9946092638857364\n",
      "P =  10 N =  1000 :  3.44  ;  0.9972810053145119\n",
      "P =  10 N =  5000 :  3.3  ;  0.999437931479635\n",
      "P =  100 N =  2 :  157.22  ;  0.5704396079175328\n",
      "P =  100 N =  10 :  12.9  ;  0.5568021778031663\n",
      "P =  100 N =  100 :  6.86  ;  0.7952769602245123\n",
      "P =  100 N =  500 :  4.7  ;  0.9506611792699257\n",
      "P =  100 N =  1000 :  4.94  ;  0.9734457509022657\n",
      "P =  100 N =  5000 :  4.82  ;  0.9946541590625358\n",
      "P =  500 N =  2 :  513.66  ;  0.5793177295754905\n",
      "P =  500 N =  10 :  19.12  ;  0.5412580754534798\n",
      "P =  500 N =  100 :  16.22  ;  0.5809966737866766\n",
      "P =  500 N =  500 :  10.0  ;  0.7958268211385899\n",
      "P =  500 N =  1000 :  7.34  ;  0.8842753443693531\n",
      "P =  500 N =  5000 :  6.1  ;  0.9739650853400884\n",
      "P =  1000 N =  2 :  312.5  ;  0.5639093237188383\n",
      "P =  1000 N =  10 :  61.32  ;  0.5405140520565916\n",
      "P =  1000 N =  100 :  19.22  ;  0.5523560055471287\n",
      "P =  1000 N =  500 :  16.4  ;  0.6881509543314138\n",
      "P =  1000 N =  1000 :  11.86  ;  0.7950892388356374\n",
      "P =  1000 N =  5000 :  6.78  ;  0.9500664135606024\n",
      "Temps d'exécution version batch est : 35.934606313705444 secondes\n"
     ]
    }
   ],
   "source": [
    "N = [2,10,100,500,1000,5000] \n",
    "P = [10,100,500,1000]\n",
    "Nbr_tirage = 50\n",
    "print('                   <IT>        <R>')\n",
    "start_time = time.time()\n",
    "for i in P :\n",
    "    for j in N :\n",
    "        Moy_IT,Moy_recov = batch_test(i,j,Nbr_tirage)\n",
    "        print('P = ',i,'N = ', j,': ',Moy_IT, ' ; ', Moy_recov)\n",
    "end_time = time.time()\n",
    "print(f\"Temps d'exécution version batch est : {end_time - start_time} secondes\")"
   ]
  },
  {
   "cell_type": "code",
   "execution_count": 35,
   "id": "d89274fd",
   "metadata": {},
   "outputs": [
    {
     "name": "stdout",
     "output_type": "stream",
     "text": [
      "                   <IT>        <R>\n",
      "P =  10 N =  2 :  56.44  ;  0.6506844807759192\n",
      "P =  10 N =  10 :  15.18  ;  0.8154166006523504\n",
      "P =  10 N =  100 :  15.14  ;  0.9727137344153743\n",
      "P =  10 N =  500 :  14.54  ;  0.9957446395469138\n",
      "P =  10 N =  1000 :  13.86  ;  0.9978051423833242\n",
      "P =  10 N =  5000 :  14.2  ;  0.9995702935723553\n",
      "P =  100 N =  2 :  1675.24  ;  0.567442810259907\n",
      "P =  100 N =  10 :  1989.18  ;  0.5566651327976812\n",
      "P =  100 N =  100 :  467.7  ;  0.8054767857289324\n",
      "P =  100 N =  500 :  317.82  ;  0.9549677715089198\n",
      "P =  100 N =  1000 :  279.36  ;  0.9768574789922514\n",
      "P =  100 N =  5000 :  308.88  ;  0.9955305573371149\n",
      "P =  500 N =  2 :  20119.82  ;  0.5795637979367101\n",
      "P =  500 N =  10 :  94916.62  ;  0.5411461424540761\n",
      "P =  500 N =  100 :  15869.36  ;  0.5767906406218866\n",
      "P =  500 N =  500 :  4390.16  ;  0.7953829316497331\n",
      "P =  500 N =  1000 :  3196.06  ;  0.8888306061599032\n",
      "P =  500 N =  5000 :  2383.62  ;  0.9773163976076863\n",
      "P =  1000 N =  2 :  61339.38  ;  0.5749351656564948\n",
      "P =  1000 N =  10 :  536012.5  ;  0.5404779144106783\n",
      "P =  1000 N =  100 :  96169.14  ;  0.5509400033937202\n",
      "P =  1000 N =  500 :  20008.96  ;  0.6797761140580484\n",
      "P =  1000 N =  1000 :  12044.78  ;  0.7955997864505012\n",
      "P =  1000 N =  5000 :  6012.92  ;  0.9546684093016299\n"
     ]
    }
   ],
   "source": [
    "N = [2,10,100,500,1000,5000] \n",
    "P = [10,100,500,1000]\n",
    "Nbr_tirage = 50\n",
    "print('                   <IT>        <R>')\n",
    "start_time = time.time()\n",
    "for i in P :\n",
    "    for j in N :\n",
    "        Moy_IT,Moy_recov = online_test(i,j,Nbr_tirage)\n",
    "        print('P = ',i,'N = ', j,': ',Moy_IT, ' ; ', Moy_recov)\n",
    "end_time = time.time()\n",
    "print(f\"Temps d'exécution version online est : {end_time - start_time} secondes\")"
   ]
  },
  {
   "cell_type": "code",
   "execution_count": null,
   "id": "1a37932c",
   "metadata": {},
   "outputs": [],
   "source": []
  }
 ],
 "metadata": {
  "kernelspec": {
   "display_name": "Python 3 (ipykernel)",
   "language": "python",
   "name": "python3"
  },
  "language_info": {
   "codemirror_mode": {
    "name": "ipython",
    "version": 3
   },
   "file_extension": ".py",
   "mimetype": "text/x-python",
   "name": "python",
   "nbconvert_exporter": "python",
   "pygments_lexer": "ipython3",
   "version": "3.9.12"
  }
 },
 "nbformat": 4,
 "nbformat_minor": 5
}
